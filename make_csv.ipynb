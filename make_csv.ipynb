{
 "cells": [
  {
   "cell_type": "code",
   "execution_count": 1,
   "metadata": {},
   "outputs": [],
   "source": [
    "%reload_ext autoreload\n",
    "%autoreload 2\n",
    "\n",
    "from pathlib import Path\n",
    "\n",
    "from analysis import Subject, io, logger\n",
    "\n",
    "logger.setLevel(\"INFO\")\n",
    "timer_subj_roots, control_subj_roots = io.load_path(Path(\"results/subjects\"))"
   ]
  },
  {
   "cell_type": "code",
   "execution_count": 2,
   "metadata": {},
   "outputs": [],
   "source": [
    "import numpy as np\n",
    "from analysis.metrics import calculate_metrics\n",
    "from analysis.consts import IDTConsts\n",
    "\n",
    "idt_consts = IDTConsts(t_dur=0.1, t_disp=50)\n",
    "\n",
    "\n",
    "path = timer_subj_roots[0]\n",
    "\n",
    "subj = Subject(path, idt_consts=idt_consts)\n",
    "\n",
    "\n",
    "def get_csv_line(subj: Subject):\n",
    "    name = subj.name\n",
    "\n",
    "    mfd_list = []\n",
    "    mfd_sd_list = []\n",
    "    for task_id in subj.task_order[1:]:\n",
    "        trial_num = subj.task_id_to_trial_num(task_id)\n",
    "        df_idt = subj.detect_fixations_idt(trial_num)\n",
    "        mfd = df_idt[\"duration\"].mean()\n",
    "        mfd_sd = df_idt[\"duration\"].std()\n",
    "        mfd_list.append(float(mfd))\n",
    "        mfd_sd_list.append(float(mfd_sd))\n",
    "\n",
    "    mfd_overall = float(np.mean(mfd_list))\n",
    "    mfd_sd_overall = float(np.mean(mfd_sd_list))\n",
    "\n",
    "    csv_line = [name, *mfd_list, *mfd_sd_list, mfd_overall, mfd_sd_overall]\n",
    "    return csv_line"
   ]
  },
  {
   "cell_type": "code",
   "execution_count": 3,
   "metadata": {},
   "outputs": [],
   "source": [
    "header = [\"Name\"]\n",
    "for task_id in range(1, 5):\n",
    "    header.append(f\"Task{task_id}_MFD\")\n",
    "for task_id in range(1, 5):\n",
    "    header.append(f\"Task{task_id}_MFD_SD\")\n",
    "header.append(\"Overall_MFD\")\n",
    "header.append(\"Overall_MFD_SD\")"
   ]
  },
  {
   "cell_type": "code",
   "execution_count": 4,
   "metadata": {},
   "outputs": [],
   "source": [
    "import csv\n",
    "\n",
    "results = Path(\"./results\") / \"csv\"\n",
    "results.mkdir(exist_ok=True)\n",
    "path = results / \"with_timer.csv\"\n",
    "with path.open(\"w\", newline=\"\") as csvfile:\n",
    "    csv_writer = csv.writer(csvfile, delimiter=\",\")\n",
    "    csv_writer.writerow(header)\n",
    "\n",
    "for root in timer_subj_roots:\n",
    "    subj = Subject(root, idt_consts=idt_consts)\n",
    "    csv_line = get_csv_line(subj)\n",
    "    with path.open(\"a\", newline=\"\") as csvfile:\n",
    "        csv_writer = csv.writer(csvfile, delimiter=\",\")\n",
    "        csv_writer.writerow(csv_line)"
   ]
  },
  {
   "cell_type": "code",
   "execution_count": 5,
   "metadata": {},
   "outputs": [],
   "source": [
    "results = Path(\"./results\") / \"csv\"\n",
    "results.mkdir(exist_ok=True)\n",
    "path = results / \"without_timer.csv\"\n",
    "with path.open(\"w\", newline=\"\") as csvfile:\n",
    "    csv_writer = csv.writer(csvfile, delimiter=\",\")\n",
    "    csv_writer.writerow(header)\n",
    "\n",
    "for root in control_subj_roots:\n",
    "    subj = Subject(root, idt_consts=idt_consts)\n",
    "    csv_line = get_csv_line(subj)\n",
    "    with path.open(\"a\", newline=\"\") as csvfile:\n",
    "        csv_writer = csv.writer(csvfile, delimiter=\",\")\n",
    "        csv_writer.writerow(csv_line)"
   ]
  }
 ],
 "metadata": {
  "kernelspec": {
   "display_name": ".venv",
   "language": "python",
   "name": "python3"
  },
  "language_info": {
   "codemirror_mode": {
    "name": "ipython",
    "version": 3
   },
   "file_extension": ".py",
   "mimetype": "text/x-python",
   "name": "python",
   "nbconvert_exporter": "python",
   "pygments_lexer": "ipython3",
   "version": "3.12.1"
  }
 },
 "nbformat": 4,
 "nbformat_minor": 2
}
